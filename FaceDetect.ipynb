{
 "cells": [
  {
   "cell_type": "code",
   "execution_count": 60,
   "id": "5180acaa",
   "metadata": {},
   "outputs": [
    {
     "name": "stdout",
     "output_type": "stream",
     "text": [
      "[[237  63 152 152]]\n"
     ]
    }
   ],
   "source": [
    "import cv2\n",
    "\n",
    "# Initializing a haar cascade\n",
    "face_cascade = cv2.CascadeClassifier('cat_face.xml')\n",
    "\n",
    "# reads frames from a image\n",
    "image = cv2.imread(\"cat1.jpg\")\n",
    "\n",
    "# convert to gray scale of each frames\n",
    "gray = cv2.cvtColor(image, cv2.COLOR_BGR2GRAY)\n",
    "\n",
    "#Detects faces of different sizes in the input image\n",
    "faces = face_cascade.detectMultiScale(gray, scaleFactor = 1.01, minNeighbors = 10, minSize = (75,75))\n",
    "\n",
    "print(faces)\n",
    "\n",
    "#for showing detection by making a rectangle around detected cat face\n",
    "for x,y,w,h in faces:\n",
    "    image = cv2.rectangle(image, (x, y),(x + w, y + h),(0,0,255),3)\n",
    "    image = cv2.rectangle(image, (x, y - 40),(x + w, y),(0,0,255),-1)\n",
    "    image = cv2.putText(image, \"Cat\", (x, y - 10), cv2.FONT_HERSHEY_COMPLEX, 0.7, (255,255,255),2)\n",
    "\n",
    "cv2.imshow(\"Cat Face\",image)\n",
    "cv2.waitKey(0)\n",
    "cv2.destroyAllWindows()"
   ]
  },
  {
   "cell_type": "code",
   "execution_count": null,
   "id": "d8630d43",
   "metadata": {},
   "outputs": [],
   "source": []
  }
 ],
 "metadata": {
  "kernelspec": {
   "display_name": "Python 3",
   "language": "python",
   "name": "python3"
  },
  "language_info": {
   "codemirror_mode": {
    "name": "ipython",
    "version": 3
   },
   "file_extension": ".py",
   "mimetype": "text/x-python",
   "name": "python",
   "nbconvert_exporter": "python",
   "pygments_lexer": "ipython3",
   "version": "3.8.8"
  }
 },
 "nbformat": 4,
 "nbformat_minor": 5
}
