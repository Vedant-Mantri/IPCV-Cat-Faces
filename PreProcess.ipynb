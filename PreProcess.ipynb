{
 "cells": [
  {
   "cell_type": "code",
   "execution_count": 1,
   "id": "f03deeaf",
   "metadata": {},
   "outputs": [],
   "source": [
    "# load the required packages\n",
    "import cv2\n",
    "import numpy as np\n",
    "# load the image into system memory\n",
    "image = cv2.imread('cat2.jpg', flags=cv2.IMREAD_COLOR)\n",
    "# display the image to the screen\n",
    "cv2.imshow('AV CV- Winter Wonder', image)\n",
    "cv2.waitKey()\n",
    "cv2.destroyAllWindows()\n",
    "\n",
    "\n",
    "# Sharpening of the image\n",
    "kernel = np.array([[0, -1, 0],\n",
    "                   [-1, 5,-1],\n",
    "                   [0, -1, 0]])\n",
    "image_sharp = cv2.filter2D(src=image, ddepth=-1, kernel=kernel)\n",
    "cv2.imshow('AV CV- Winter Wonder Sharpened', image_sharp)\n",
    "cv2.waitKey()\n",
    "cv2.destroyAllWindows()"
   ]
  },
  {
   "cell_type": "code",
   "execution_count": 2,
   "id": "3f3bcd04",
   "metadata": {},
   "outputs": [],
   "source": [
    "from PIL import Image, ImageEnhance\n",
    "\n",
    "#read the image\n",
    "im = Image.open(\"cat2.jpg\")\n",
    "\n",
    "#image brightness enhancer\n",
    "enhancer = ImageEnhance.Brightness(im)\n",
    "\n",
    "factor = 1 #gives original image\n",
    "im_output = enhancer.enhance(factor)\n",
    "im_output.save('original-image.png')\n",
    "\n",
    "factor = 0.5 #darkens the image\n",
    "im_output = enhancer.enhance(factor)\n",
    "im_output.save('darkened-image.png')\n",
    "\n",
    "factor = 1.5 #brightens the image\n",
    "im_output = enhancer.enhance(factor)\n",
    "im_output.save('brightened-image.png')"
   ]
  },
  {
   "cell_type": "code",
   "execution_count": null,
   "id": "085b71be",
   "metadata": {},
   "outputs": [],
   "source": []
  }
 ],
 "metadata": {
  "kernelspec": {
   "display_name": "Python 3",
   "language": "python",
   "name": "python3"
  },
  "language_info": {
   "codemirror_mode": {
    "name": "ipython",
    "version": 3
   },
   "file_extension": ".py",
   "mimetype": "text/x-python",
   "name": "python",
   "nbconvert_exporter": "python",
   "pygments_lexer": "ipython3",
   "version": "3.8.8"
  }
 },
 "nbformat": 4,
 "nbformat_minor": 5
}
